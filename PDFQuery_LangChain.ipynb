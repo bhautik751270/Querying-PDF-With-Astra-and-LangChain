{
 "cells": [
  {
   "cell_type": "markdown",
   "metadata": {
    "id": "wrgOhk8U4Rpl"
   },
   "source": [
    "# Querying PDF With Astra and LangChain\n",
    "\n",
    "### A question-answering demo using Astra DB and LangChain, powered by Vector Search"
   ]
  },
  {
   "cell_type": "markdown",
   "metadata": {
    "id": "MqfJKgRM4Rpo"
   },
   "source": [
    "#### Pre-requisites:\n",
    "\n",
    "You need a **_Serverless Cassandra with Vector Search_** database on [Astra DB](https://astra.datastax.com) to run this demo. As outlined in more detail [here](https://docs.datastax.com/en/astra-serverless/docs/vector-search/quickstart.html#_prepare_for_using_your_vector_database), you should get a DB Token with role _Database Administrator_ and copy your Database ID: these connection parameters are needed momentarily.\n",
    "\n",
    "You also need an Groq_API_key for this demo to work.\n",
    "\n",
    "#### What you will do:\n",
    "\n",
    "- Setup: import dependencies, provide secrets, create the LangChain vector store;\n",
    "- Run a Question-Answering loop retrieving the relevant headlines and having an LLM construct the answer."
   ]
  },
  {
   "cell_type": "markdown",
   "metadata": {
    "id": "m_FeN-Ep4Rpp"
   },
   "source": [
    "Install the required dependencies:"
   ]
  },
  {
   "cell_type": "code",
   "execution_count": 1,
   "metadata": {
    "id": "Uk0qUhJUQrkO"
   },
   "outputs": [],
   "source": [
    "!pip install -q cassio datasets langchain openai tiktoken"
   ]
  },
  {
   "cell_type": "markdown",
   "metadata": {
    "id": "XQQN-L2J4Rpq"
   },
   "source": [
    "Import the packages you'll need:"
   ]
  },
  {
   "cell_type": "code",
   "execution_count": null,
   "metadata": {
    "id": "V4qBIihE4Rpq"
   },
   "outputs": [],
   "source": [
    "# LangChain components to use\n",
    "from langchain.vectorstores.cassandra import Cassandra\n",
    "from langchain.indexes.vectorstore import VectorStoreIndexWrapper\n",
    "from langchain.llms import OpenAI\n",
    "from langchain.embeddings import OpenAIEmbeddings\n",
    "\n",
    "# Support for dataset retrieval with Hugging Face\n",
    "from datasets import load_dataset\n",
    "\n",
    "# With CassIO, the engine powering the Astra DB integration in LangChain,\n",
    "# you will also initialize the DB connection:\n",
    "import cassio\n",
    "\n",
    "from langchain_groq import ChatGroq\n"
   ]
  },
  {
   "cell_type": "code",
   "execution_count": 3,
   "metadata": {
    "colab": {
     "base_uri": "https://localhost:8080/"
    },
    "id": "WIs76OPQ6JyD",
    "outputId": "2464981f-aea9-499d-ccb4-5f43ea76061d"
   },
   "outputs": [
    {
     "name": "stdout",
     "output_type": "stream",
     "text": [
      "Collecting PyPDF2\n",
      "  Using cached pypdf2-3.0.1-py3-none-any.whl.metadata (6.8 kB)\n",
      "Using cached pypdf2-3.0.1-py3-none-any.whl (232 kB)\n",
      "Installing collected packages: PyPDF2\n",
      "Successfully installed PyPDF2-3.0.1\n"
     ]
    }
   ],
   "source": [
    "!pip install PyPDF2"
   ]
  },
  {
   "cell_type": "code",
   "execution_count": 4,
   "metadata": {
    "id": "1itBNL1v6N9-"
   },
   "outputs": [],
   "source": [
    "from PyPDF2 import PdfReader"
   ]
  },
  {
   "cell_type": "markdown",
   "metadata": {
    "id": "Vu2UauiC4Rpr"
   },
   "source": [
    "### Setup"
   ]
  },
  {
   "cell_type": "code",
   "execution_count": 5,
   "metadata": {
    "id": "eqpM6I854Rpr"
   },
   "outputs": [],
   "source": [
    "ASTRA_DB_APPLICATION_TOKEN = \"ASTRA_DB_APPLICATION_TOKEN\" # enter the \"AstraCS:...\" string found in in your Token JSON file\n",
    "ASTRA_DB_ID = \"ASTRA_DB_ID\" # enter your Database ID\n",
    "\n",
    "Groq_API_Key = \"Groq_API_Key\"\n"
   ]
  },
  {
   "cell_type": "markdown",
   "metadata": {
    "id": "Q1cmD5EF4Rpr"
   },
   "source": [
    "#### Provide your secrets:\n",
    "\n",
    "Replace the following with your Astra DB connection details and your OpenAI API key:"
   ]
  },
  {
   "cell_type": "code",
   "execution_count": 7,
   "metadata": {
    "id": "waVKJW-n6jqJ"
   },
   "outputs": [],
   "source": [
    "# provide the path of  pdf file/files.\n",
    "pdfreader = PdfReader('/home/kshatra/Documents/NAD_PR_29112024.pdf')"
   ]
  },
  {
   "cell_type": "code",
   "execution_count": 8,
   "metadata": {
    "id": "42BKuFRO6meP"
   },
   "outputs": [],
   "source": [
    "from typing_extensions import Concatenate\n",
    "# read text from pdf\n",
    "raw_text = ''\n",
    "for i, page in enumerate(pdfreader.pages):\n",
    "    content = page.extract_text()\n",
    "    if content:\n",
    "        raw_text += content"
   ]
  },
  {
   "cell_type": "code",
   "execution_count": 9,
   "metadata": {
    "colab": {
     "base_uri": "https://localhost:8080/",
     "height": 192
    },
    "id": "vR41Iq-4ZHnG",
    "outputId": "861bc27a-fd4d-47f9-f722-8e365a6fd030"
   },
   "outputs": [
    {
     "data": {
      "text/plain": [
       "'This Press Release is embargoed against publication, telecast or circulation on internet till 4:00 pm on 29th November , 2024 . \\n \\n \\n   \\n \\nPRESS NOTE  \\nON \\nESTIMATES OF GROSS DOMESTIC  \\nPRODUCT  FOR THE SECOND  QUARTER  \\n(JULY -SEPTEMBER ) OF 2024 -25  \\n \\n \\n \\n \\n \\n \\nNATIONAL ACCOUNTS DIVISION  \\nNATIONAL STATISTIC S OFFICE  \\nMINISTRY OF STATISTICS & PROGRAMME \\nIMPLEMENTATION  \\nGOVERNMENT OF INDIA  \\nThis Press Release is embargoed against publication, telecast or circulation on internet till 4:00 pm on 29th November , 2024 . \\n1 \\n GOVERNMENT OF INDIA  \\nMINISTRY OF STATISTICS AND PROGRAMME IMPLEMENTATION  \\n Dated 8 Agrahayana , 194 6 Saka  \\n 29th November , 202 4  \\nPRESS NOTE  \\nON \\nESTIMATES OF GROSS DOMESTIC PRODUCT FOR THE SECOND  QUARTER  \\n(JULY -SEPTEMBER ) OF 2024 -25 \\n \\nThe National Statistic s Office (NSO), Ministry of Statistics and Programme Implementation \\n(MoSPI) is releasing in this Press Note, Quarterly Estimates of Gross Domestic Product (GDP) for \\nthe July -September Quarter (Q2) of the Financial Year (FY) 2024 -25 along with its expenditur e \\ncomponents both at Constant (2011 -12) and Current Prices. Quarterly and Half -Yearly (April -\\nSeptember) Estimates of Gross Value Added (GVA) at Basic Prices by kind of economic activity \\nalong with year -on-year percent changes and expenditure components of GDP for the financial years \\n2022 -23, 2023 -24 and 2024 -25 at Constant and Current Prices are given in Statements 1 to 8 of \\nAnnexure A . \\n \\nKey Highlights:  \\n➢ Real GDP has been estimated to grow by 5.4% in Q2 of FY 2024 -25 over the growth rate of 8.1% \\nin Q2 of FY 2023 -24. Despite sluggish growth observed in Manufacturing ( 2.2% ) and Mining & \\nQuarrying ( -0.1%) sectors in Q2 of FY 2024 -25, real GVA in H1 (April -September) has recorded \\na growth rate of 6.2%.  \\n➢ Real GVA has grown by 5.6% in Q2 of FY 2024 -25 over the growth rate of 7.7% in Q2 of the \\nprevious financial year. Nominal GVA has witnessed a growth rate of 8.1 % in Q2 of FY 2024 -\\n25 over the growth rate of 9.3% in Q2 of FY 2023 -24. \\n➢ Agriculture and Allied sector has bounced back by registering a growth rate of 3.5% in Q2 of FY \\n2024 -25 after sub -optimal growth rates ranging from 0.4% to 2.0%, observed during previous \\nfour quarters.  \\n➢ In the Construction sector, sustained domestic consumption of finished steel has resulted 7.7% \\nand 9.1% growth rates respectively in Q2 and H1 of FY 2024 -25.  \\n➢ Tertiary sector has observed a growth rate of 7.1% in Q2  of FY 2024 -25, as compared to the \\ngrowth rate of 6.0% in Q2 of the previous financial year.  In particular, Trade, Hotels, Transport, \\nCommunication & Services related to Broadcasting has seen a growth rate of 6.0% in Q2 of FY \\n2024 -25 over the growth rate of 4.5% in Q2, 2023 -24. \\n➢ Private Final Consumption Expenditure (PFCE) has witnessed a growth rate of 6.0% and 6.7% \\nrespectively in Q2 and H1 of the FY 2024 -25 over the growth rate of 2.6% and 4.0% in Q2 and \\nH1 of the previous financial year.   \\n➢ Government Final Consumption Expenditure (GFCE) has rebounded to a growth rate of 4.4% \\nafter observing either negative or low growth rates in previous three quarters.  This Press Release is embargoed against publication, telecast or circulation on internet till 4:00 pm on 29th November , 2024 . \\n2 \\n I. Quarterly  Estimates  and Growth Rates  \\n \\n Real GDP or GDP at Constant Prices in Q 2 of 2024 -25 is estimated at ₹ 44.10  lakh crore, \\nagainst ₹ 41.86  lakh crore in Q 2 of 2023 -24, showing a growth rate of 5.4%. Nominal GDP or GDP \\nat Current Prices in Q 2 of 2024 -25 is estimated at ₹ 76.60  lakh crore, against ₹ 70.90 lakh crore in \\nQ2 of 2023 -24, showing a growth rate of 8.0%. \\n Real GVA in Q 2 of 2024 -25 is estimated at ₹ 40.58  lakh crore, against ₹ 38.42 lakh crore in \\nQ2 of 2023 -24, showing a growth rate of 5.6%. Nominal GVA in Q 2 of 2024 -25 is estimated at \\n₹69.54  lakh crore, against ₹ 64.35  lakh crore in Q 2 of 2023 -24, showing a growth rate of 8.1%. \\n \\nFig. 1: Quarter ly GDP  and GVA  Estimates along with Y-o-Y Growth Rates from Q 1 FY \\n2021-22 to Q2 FY 2024 -25 at Constant  Prices  \\n \\n \\n \\n \\n \\n \\nThis Press Release is embargoed against publication, telecast or circulation on internet till 4:00 pm on 29th November , 2024 . \\n3 \\n  \\nFig. 2: Sectoral Composition and Growth Rates of Quarterly GVA  \\nSectoral Composition of Nominal GVA in Q 2 of FY 2024 -25 \\n \\n \\n \\n \\n \\n \\n \\n*Public Administration, Defence & Other Services category includes the Other Services sector i.e. Education, Health, Recreation, and other   \\npersonal services.  \\n \\n \\n  \\nThis Press Release is embargoed against publication, telecast or circulation on internet till 4:00 pm on 29th November , 2024 . \\n4 \\n Fig. 3: Composition and Growth Rates of Quarterly GVA in Broad Sectors  \\n \\n \\n \\n \\n \\n \\n[Primary Sector : Agriculture, Livestock, Forestry & Fishing and Mining & Quarrying  \\nSecondary Sector : Manufacturing, Electricity, Gas, Water supply & Other Utility Services and Construction  \\nTertiary Sector : Trade, Hotels, Transport, Communication and Services related to Broadcasting, Financial, Real Estate & Professional Service s and \\nPublic Administration, Defence & Other Services]  \\n \\n \\n \\nThis Press Release is embargoed against publication, telecast or circulation on internet till 4:00 pm on 29th November , 2024 . \\n5 \\n II.  Half -Yearly Estimates and Growth Rates  \\n \\n Real GDP or GDP at Constant Prices in April -September  of 2024 -25 (H1 2024-25) is \\nestimated at ₹ 87.74  lakh crore, against ₹ 82.77  lakh crore in H1 of 2023-24, showing a growth rate \\nof 6.0%. Nominal GDP or GDP at Current Prices in H1, 2024 -25 is  estimated at ₹ 153.91  lakh crore, \\nagainst ₹ 141.40  lakh crore in H1  of 2023-24, showing a growth rate of 8.9%. \\n Real GVA in H1of 2024 -25 is estimated at ₹ 81.30  lakh crore, against ₹ 76.54  lakh crore in \\nH1, 2023 -24, showing a growth rate of 6. 2%. Nominal GVA in H1 of 2024 -25 is estimated at \\n₹139.78  lakh crore, against ₹ 128.31 lakh crore in H1, 2023 -24, showing a growth rate of 8.9%. \\n \\nFig. 4: Half -Yearly  GDP and GVA Estimates along with Y -o-Y Growth Rates from H1 2021-\\n22 to H1 2024 -25 at Constant Prices  \\n \\n \\n \\n \\n \\n \\n \\nThis Press Release is embargoed against publication, telecast or circulation on internet till 4:00 pm on 29th November , 2024 . \\n6 \\n Fig. 5: Sectoral Growth Rates of Half -Yearly (H1  2024 -25) Real GVA  \\n \\n \\n \\n \\n \\n \\n[Primary Sector : Agriculture, Livestock, Forestry & Fishing and Mining & Quarrying  \\nSecondary Sector : Manufacturing, Electricity, Gas, Water supply & Other Utility Services and Construction  \\nTertiary Sector : Trade, Hotels, Transport, Communication and Services related to Broadcasting, Financial, Real Estate & Professional Service s and \\nPublic Administration, Defence & Other Services]  \\n*Public Administration, Defence & Other Services category includes the Other Services sector i.e. Education, Health, Recreati on, and other   \\npersonal services.  \\n \\n \\n \\nThis Press Release is embargoed against publication, telecast or circulation on internet till 4:00 pm on 29th November , 2024 . \\n7 \\n III. Methodology and Major Data Sources  \\n Quarterly Estimates of GDP  are indicator based and compiled using the benchmark -indicator \\nmethod i.e. the estimates available for the same quarter of the previous financial year (2023 -24) are \\nextrapolated using the relevant indicators reflecting the performance of sectors. Data sourced from \\nvarious Ministries/Departments/Private Agencies serve as valuable inputs in the compilation of \\nthese estimates.  \\n The sector -wise estimates have been compiled using indicators /data sources viz. (i) Index of \\nIndustrial Production (IIP), (ii) Financial performance of Listed Companies in the Private Corporate \\nsector based on available quarterly financial results of these companies  for Q2 of 2024 -25, (iii) \\nProduction Targets a nd First Advance Estimates of Crop Production for 2024 -25, (iv) Production \\nTargets and summer season p roduction estimates of Major Livestock products  for 2024 -25; (v) Fi sh \\nProduction , (vi) Production/ Consumption of Cement and Steel, (vii) Net Tonne Kilometres and \\nPassenger Kilometres for Railways, (viii) Passenger and Cargo traffic handled by Civil Aviation, \\n(ix) Cargo traffic handled at Major and Minor Sea Ports, (x) Sales of Commercial Vehicles, (xi)  \\nBank Deposits and Credits, (xii) Accounts of Central and State Governments, etc., available for Q2 \\nof 2024 -25. Year -on-Year growth rates (%) in the main indicators used in the estimation are given \\nin the Annexure B. \\n Total tax revenue used for GDP compilation includes non -GST revenue as well as GST \\nrevenue. Latest available information on the websites of Controller General of Accounts (CGA) and \\nComptroller and Auditor General of India (CAG) have been used for estimating taxes on products \\nat Current Prices. For compiling taxes on products at constant prices, volume extrapolation is done \\nusing volume growth of taxed goods and services  and aggregated to obtain the total volume of taxes . \\nThe total product subsidies at Curre nt prices were compiled using the information on major \\nsubsidies viz. Food, Urea, Petroleum and Nutrient based subsidy for Centre and the expenditure \\nincurred on subsidies by most States for July-September  quarter of FY  2024 -25. Lates t available \\ndata on the CGA and CAG websites for Revenue expenditure, Interest payments, Subsidies etc. \\nfrom Centre and States are used for estimating Government Final Consumption Expenditure \\n(GFCE).  \\nImproved data coverage and revision in input data made by source agencies would have a \\nbearing on subsequent revisions of these estimates. Estimates are, therefore, likely to undergo \\nrevisions for the aforesaid causes in due course, as per the release cale ndar. Users should take these \\ninto consideration while interpreting the figures. The First Advance Estimates of Annual GDP for \\nFY 2024 -25 would be released on 7.01.2025. The release of quarterly GDP estimates for the quarter \\nOctober -December  of 2024 -25 (Q 3 2024 -25) will be on 28.02.2025 . \\n***********This Press Release is embargoed against publication, telecast or circulation on internet till 4:00 pm on 29th November , 2024 . \\n8 \\n Annexure A  \\n \\n \\n \\n \\n \\n \\n \\n \\n \\n \\n  \\n(₹ Crore)\\nQ1 Q2 Q1 Q2 Q1 Q2 Q1 Q2 Q1 Q2\\n1. Primary Sector 5,82,779 4,95,503 6,07,200 5,09,923 6,23,784     5,25,140 4.2 2.9 2.7 3.0\\n1.1 Agriculture, Livestock, Forestry & Fishing 5,02,859 4,33,439 5,21,648 4,40,989 5,32,092 4,56,279 3.7 1.7 2.0 3.5\\n1.2. Mining & Quarrying 79,920 62,064 85,551 68,934 91,691 68,861 7.0 11.1 7.2 -0.1\\n2. Secondary Sector 10,08,980 9,71,473 10,68,496 11,04,936 11,58,524 11,47,523 5.9 13.7 8.4 3.9\\n2.1. Manufacturing 6,09,518 6,01,225 6,39,709 6,87,183 6,84,792 7,01,961 5.0 14.3 7.0 2.2\\n2.2. Electricity, Gas, Water Supply & Other Utility Services 91,145 88,379 94,034 97,686 1,03,805 1,00,922 3.2 10.5 10.4 3.3\\n2.3. Construction 3,08,318 2,81,869 3,34,754 3,20,067 3,69,927 3,44,640 8.6 13.6 10.5 7.7\\n3. Tertiary Sector 19,29,266 21,01,129 21,36,301 22,27,615 22,90,427 23,85,035 10.7 6.0 7.2 7.1\\n3.1 Trade, Hotels, Transport, Communication & Services \\nrelated to Broadcasting5,88,075 6,77,141 6,45,039 7,07,675 6,81,942 7,50,198 9.7 4.5 5.7 6.0\\n3.2 Financial, Real Estate & Professional Services 9,03,194 9,52,433 10,17,115 10,11,847 10,89,219 10,80,051 12.6 6.2 7.1 6.7\\n3.3 Public Administration, Defence & Other Services* 4,37,997 4,71,555 4,74,148 5,08,093 5,19,267 5,54,786 8.3 7.7 9.5 9.2\\nGVA at Basic Prices 35,21,025 35,68,105 38,11,997 38,42,473 40,72,734 40,57,697 8.3 7.7 6.8 5.6\\nNet Taxes 2,58,929 3,04,753 2,79,486 3,43,306 2,90,998 3,52,626 7.9 12.7 4.1 2.7\\nGDP@37,79,954 38,72,858 40,91,484 41,85,779 43,63,732 44,10,323 8.2 8.1 6.7 5.4\\n@GDP (Production/Income Approach) = GVA at Basic Price + Net Taxes on Products2022-23 2023-24 2024-25Percentage Change Over Previous \\nYear\\n2023-24 2024-25\\n* Public Administration, Defence & Other Services category includes the Other Services sector i.e. Education, Health, Recreation, and other personal servicesStatement 1: Quarterly Estimates of GVA at Basic Prices for Q2 (July-September) 2024-25 (at 2011-12 Prices)\\nSectorGVA at Basic Price\\n(₹ Crore)\\nQ1 Q2 Q1 Q2 Q1 Q2 Q1 Q2 Q1 Q2\\n1. Private Final Consumption Expenditure (PFCE) 21,66,248 22,82,920 22,86,468 23,42,610 24,56,777 24,82,288 5.5 2.6 7.4 6.0\\n2. Government Final Consumption Expenditure (GFCE) 4,16,509 3,36,707 4,15,961 3,83,709 4,14,945 4,00,698 -0.1 14.0 -0.2 4.4\\n3. Gross Fixed Capital Formation (GFCF) 13,03,951 12,85,349 14,14,918 14,35,079 15,20,625 15,13,038 8.5 11.6 7.5 5.4\\n4. Changes in Stocks (CIS) 44,647 44,039 45,182 48,535 47,712 49,154 1.2 10.2 5.6 1.3\\n5. Valuables 35,436 1,09,678 27,991 1,08,733 24,796 1,24,366 -21.0 -0.9 -11.4 14.4\\n6. Exports 9,35,660 9,48,378 8,73,875 9,96,098 9,49,854 10,24,347 -6.6 5.0 8.7 2.8\\n7. Imports 9,59,074 10,28,800 11,05,210 11,47,928 11,53,943 11,14,743 15.2 11.6 4.4 -2.9\\n8. Discrepancies -1,63,422 -1,05,414 1,32,299 18,943 1,02,967 -68,825 3.2 0.5 2.4 -1.6\\nGDP 37,79,954 38,72,858 40,91,484 41,85,779 43,63,732 44,10,323 8.2 8.1 6.7 5.4\\n In case of Discrepancy percentage share in GDP is given instead of percentage changes over previous year.# Following Expenditure Approach, GDP = PFCE + GFCE + GFCF + CIS + Valuable + Export - Import. Discrepancy refers to gap between GDP (Production/Income Approach) and GDP (Expenditure Approach).Expenditure Components of GDPStatement 2: Quarterly Estimates of Expenditure Components of GDP for Q2 (July-September) 2024-25 (at 2011-12 Prices)  \\n2023-24 2024-25Expenditure Components#2022-23 2023-24 2024-25Percentage Change Over Previous \\nYearThis Press Release is embargoed against publication, telecast or circulation on internet till 4:00 pm on 29th November , 2024 . \\n9 \\n  \\n \\n \\n \\n \\n \\n \\n  \\n(₹ Crore)\\nQ1 Q2 Q1 Q2 Q1 Q2 Q1 Q2 Q1 Q2\\n1. Primary Sector 11,25,265 9,53,270 11,71,059 10,34,029 12,70,732 10,95,984 4.1 8.5 8.5 6.0\\n1.1 Agriculture, Livestock, Forestry & Fishing 9,94,943 8,54,414 10,39,053 9,23,293 11,22,216 9,86,851 4.4 8.1 8.0 6.9\\n1.2. Mining & Quarrying 1,30,322 98,856 1,32,006 1,10,737 1,48,517 1,09,133 1.3 12.0 12.5 -1.4\\n2. Secondary Sector 15,43,731 14,67,553 16,14,377 16,43,548 17,62,900 17,18,881 4.6 12.0 9.2 4.6\\n2.1. Manufacturing 8,72,693 8,50,893 8,91,128 9,52,502 9,61,161 9,84,546 2.1 11.9 7.9 3.4\\n2.2. Electricity, Gas, Water Supply & Other Utility Services 1,41,120 1,47,146 1,60,133 1,60,864 1,73,527 1,65,026 13.5 9.3 8.4 2.6\\n2.3. Construction 5,29,919 4,69,514 5,63,116 5,30,182 6,28,213 5,69,309 6.3 12.9 11.6 7.4\\n3. Tertiary Sector 32,40,953 34,69,096 36,10,285 37,57,720 39,90,994 41,38,946 11.4 8.3 10.5 10.1\\n3.1 Trade, Hotels, Transport, Communication & Services \\nrelated to Broadcasting9,43,186 10,77,759 10,10,571 11,24,674 10,89,404 12,15,422 7.1 4.4 7.8 8.1\\n3.2 Financial, Real Estate & Professional Services 14,58,508 15,33,701 16,44,162 16,54,460 18,10,553 18,10,666 12.7 7.9 10.1 9.4\\n3.3 Public Administration, Defence & Other Services* 8,39,259 8,57,636 9,55,552 9,78,586 10,91,037 11,12,858 13.9 14.1 14.2 13.7\\nGVA at Basic Prices 59,09,950 58,89,920 63,95,721 64,35,298 70,24,626 69,53,811 8.2 9.3 9.8 8.1\\nNet Taxes 5,89,612 5,78,885 6,53,873 6,54,923 7,06,353 7,06,681 10.9 13.1 8.0 7.9\\nGDP@64,99,562 64,68,804 70,49,594 70,90,221 77,30,979 76,60,491 8.5 9.6 9.7 8.0\\n@GDP (Production/Income Approach) = GVA at Basic Price + Net Taxes on ProductsStatement 3: Quarterly Estimates of GVA at Basic Prices for Q2 (July-September) 2024-25 (at Current Prices)\\nSectorGVA at Basic Price\\n2024-252022-23 2023-24 2024-25Percentage Change Over Previous \\nYear\\n2023-24\\n* Public Administration, Defence & Other Services category includes the Other Services sector i.e. Education, Health, Recreation, and other personal services\\n(₹ Crore)\\nQ1 Q2 Q1 Q2 Q1 Q2 Q1 Q2 Q1 Q2\\n1. Private Final Consumption Expenditure (PFCE) 38,44,545 40,51,141 41,54,971 43,30,427 46,68,411 47,47,726 58.9 61.1 60.4 62.0\\n2. Government Final Consumption Expenditure (GFCE) 7,34,534 6,01,413 7,54,304 7,17,865 7,84,897 7,76,920 10.7 10.1 10.2 10.1\\n3. Gross Fixed Capital Formation (GFCF) 20,40,363 19,72,286 22,16,435 22,24,310 24,17,495 23,59,019 31.4 31.4 31.3 30.8\\n4. Changes in Stocks (CIS) 68,385 66,677 68,868 73,611 74,900 77,070 1.0 1.0 1.0 1.0\\n5. Valuables 50,516 1,59,132 44,488 1,67,242 44,338 2,22,146 0.6 2.4 0.6 2.9\\n6. Exports 15,28,756 15,24,345 15,18,443 15,77,364 16,62,787 16,47,898 21.5 22.2 21.5 21.5\\n7. Imports 17,71,718 18,70,032 16,92,336 17,76,842 18,46,356 18,98,404 24.0 25.1 23.9 24.8\\n8. Discrepancies 4,183 -36,157 -15,579 -2,23,757 -75,492 -2,71,884 -0.2 -3.2 -1.0 -3.5\\nGDP 64,99,562 64,68,804 70,49,594 70,90,221 77,30,979 76,60,491 100.0 100.0 100.0 100.0\\nGDP  (Percentage change over previous year) 8.5 9.6 9.7 8.0\\n# Following Expenditure Approach, GDP = PFCE + GFCE + GFCF + CIS + Valuable + Export - Import. Discrepancy refers to gap between GDP (Production/Income Approach) and GDP (Expenditure Approach)Statement 4: Quarterly Estimates of Expenditure Components of GDP for Q2 (July-September) 2024-25 (at Current Prices)  \\nExpenditure Components#Expenditure Components of GDP\\n2022-23 2023-24 2024-25Share in GDP (%)\\n2023-24 2024-25This Press Release is embargoed against publication, telecast or circulation on internet till 4:00 pm on 29th November , 2024 . \\n10 \\n  \\n \\n \\n \\n  \\n(₹ Crore)\\n2023-24 2024-25\\n1. Primary Sector 10,78,282 11,17,122 11,48,924 3.6 2.8\\n1.1 Agriculture, Livestock, Forestry & Fishing 9,36,297 9,62,637 9,88,371 2.8 2.7\\n1.2. Mining & Quarrying 1,41,984 1,54,485 1,60,552 8.8 3.9\\n2. Secondary Sector 19,80,453 21,73,432 23,06,046 9.7 6.1\\n2.1. Manufacturing 12,10,743 13,26,892 13,86,753 9.6 4.5\\n2.2. Electricity, Gas, Water Supply & Other Utility Services 1,79,524 1,91,720 2,04,727 6.8 6.8\\n2.3. Construction 5,90,187 6,54,821 7,14,567 11.0 9.1\\n3. Tertiary Sector 40,30,395 43,63,916 46,75,462 8.3 7.1\\n3.1 Trade, Hotels, Transport, Communication & Services \\nrelated to Broadcasting12,65,216 13,52,713 14,32,140 6.9 5.9\\n3.2 Financial, Real Estate & Professional Services 18,55,627 20,28,962 21,69,269 9.3 6.9\\n3.3 Public Administration, Defence & Other Services* 9,09,552 9,82,240 10,74,053 8.0 9.3\\nGVA at Basic Prices 70,89,130 76,54,471 81,30,431 8.0 6.2\\nNet Taxes 5,63,682 6,22,792 6,43,623 10.5 3.3\\nGDP@76,52,812 82,77,263 87,74,055 8.2 6.0\\n@GDP (Production/Income Approach) = GVA at Basic Price + Net Taxes on ProductsGVA at Basic Price\\nH1\\n2022-23 2023-24 2024-25Percentage Change \\nOver Previous Year\\n* Public Administration, Defence & Other Services category includes the Other Services sector i.e. Education, Health, Recreation, and other personal servicesSectorStatement 5: Estimates of GVA at Basic Prices for H1 (April-September) 2024-25 (at 2011-12 Prices)\\n(₹ Crore)\\n2023-24 2024-25\\n1. Private Final Consumption Expenditure (PFCE) 44,49,168 46,29,078 49,39,065 4.0 6.7\\n2. Government Final Consumption Expenditure (GFCE) 7,53,216 7,99,670 8,15,643 6.2 2.0\\n3. Gross Fixed Capital Formation (GFCF) 25,89,299 28,49,997 30,33,662 10.1 6.4\\n4. Changes in Stocks (CIS) 88,686 93,717 96,865 5.7 3.4\\n5. Valuables 1,45,114 1,36,724 1,49,162 -5.8 9.1\\n6. Exports 18,84,037 18,69,973 19,74,201 -0.7 5.6\\n7. Imports 19,87,874 22,53,138 22,68,685 13.3 0.7\\n8. Discrepancies -2,68,836 1,51,242 34,142 1.8 0.4\\nGDP 76,52,812 82,77,263 87,74,055 8.2 6.0\\nIncome Approach) and GDP (Expenditure Approach). In case of Discrepancy percentage share in GDP is given instead of percentage changes over previous year.# Following Expenditure Approach, GDP = PFCE + GFCE + GFCF + CIS + Valuable + Export - Import. Discrepancy refers to gap between GDP (Production/2024-25Statement 6: Estimates of Expenditure Components of GDP for H1 (April-September) 2024-25  (at 2011-12 Prices)\\nExpenditure Components#Expenditure Components of GDP\\nH1 Percentage Change \\nOver Previous Year\\n2022-23 2023-24This Press Release is embargoed against publication, telecast or circulation on internet till 4:00 pm on 29th November , 2024 . \\n11 \\n  \\n \\n \\n \\n \\n \\n \\n(₹ Crore)\\n2023-24 2024-25\\n1. Primary Sector 20,78,535 22,05,088 23,66,716 6.1 7.3\\n1.1 Agriculture, Livestock, Forestry & Fishing 18,49,357 19,62,345 21,09,067 6.1 7.5\\n1.2. Mining & Quarrying 2,29,178 2,42,743 2,57,649 5.9 6.1\\n2. Secondary Sector 30,11,284 32,57,925 34,81,781 8.2 6.9\\n2.1. Manufacturing 17,23,586 18,43,630 19,45,707 7.0 5.5\\n2.2. Electricity, Gas, Water Supply & Other Utility Services 2,88,266 3,20,997 3,38,553 11.4 5.5\\n2.3. Construction 9,99,433 10,93,298 11,97,521 9.4 9.5\\n3. Tertiary Sector 67,10,050 73,68,005 81,29,940 9.8 10.3\\n3.1 Trade, Hotels, Transport, Communication & Services \\nrelated to Broadcasting20,20,945 21,35,246 23,04,825 5.7 7.9\\n3.2 Financial, Real Estate & Professional Services 29,92,209 32,98,622 36,21,220 10.2 9.8\\n3.3 Public Administration, Defence & Other Services* 16,96,896 19,34,138 22,03,895 14.0 13.9\\nGVA at Basic Prices 1,17,99,869 1,28,31,019 1,39,78,437 8.7 8.9\\nNet Taxes 11,68,497 13,08,796 14,13,034 12.0 8.0\\nGDP@1,29,68,366 1,41,39,815 1,53,91,471 9.0 8.9\\n@GDP (Production/Income Approach) = GVA at Basic Price + Net Taxes on Products* Public Administration, Defence & Other Services category includes the Other Services sector i.e. Education, Health, Recreation, and other personal servicesStatement 7: Estimates of GVA at Basic Prices for H1 (April-September) 2024-25 (at Current Prices)\\nSectorGVA at Basic Price\\nH1 Percentage Change \\nOver Previous Year\\n2022-23 2023-24 2024-25\\n(₹ Crore)\\n2023-24 2024-25\\n1. Private Final Consumption Expenditure (PFCE) 78,95,686 84,85,398 94,16,138 60.0 61.2\\n2. Government Final Consumption Expenditure (GFCE) 13,35,947 14,72,169 15,61,816 10.4 10.1\\n3. Gross Fixed Capital Formation (GFCF) 40,12,649 44,40,745 47,76,514 31.4 31.0\\n4. Changes in Stocks (CIS) 1,35,061 1,42,480 1,51,970 1.0 1.0\\n5. Valuables 2,09,648 2,11,729 2,66,484 1.5 1.7\\n6. Exports 30,53,100 30,95,807 33,10,685 21.9 21.5\\n7. Imports 36,41,751 34,69,178 37,44,760 24.5 24.3\\n8. Discrepancies -31,975 -2,39,336 -3,47,376 -1.7 -2.3\\nGDP 1,29,68,366 1,41,39,815 1,53,91,471 100.0 100.0\\nGDP  (Percentage change over previous year) 9.0 8.9\\n# Following Expenditure Approach, GDP = PFCE + GFCE + GFCF + CIS + Valuable + Export - Import. Discrepancy refers to gap between GDP (Production/Income \\nApproach) and GDP (Expenditure Approach)Statement 8: Estimates of Expenditure Components of GDP for H1 (April-September) 2024-25  (at Current Prices)\\nExpenditure Components#Expenditure Components of GDP\\nH1Share in GDP (%)\\n2022-23 2023-24 2024-25This Press Release is embargoed against publication, telecast or circulation on internet till 4:00 pm on 29th November , 2024 . \\n12 \\n Annexure B \\n \\n***********  \\n[1] [2] [3] [4]\\n1 Production of Rice -0.04 0.9\\n2 Production of Coal 16.3 0.5\\n3 Production of Crude Oil 1.3 -3.4\\n4 Production of Cement 10.3 3.0\\n5 Consumption of Steel 17.7 12.0\\n6 Total Telephone Subscribers 0.8 0.8\\n7 Sales of Commercial Vehicles 6.8 -11.0\\n8Purchase of Private Vehicles (Passenger \\nVehicles+Two Wheelers)-0.5 9.9\\n9 Cargo Handled at Major Sea Ports 3.1 6.1\\n10 Cargo Handled at Airports 1.7 16.1\\n11 Passengers Handled at Airports 22.7 7.8\\n12 Railways\\n(i) Net Tonne Kilometres 0.9 -1.6\\n(ii) Passenger Kilometres 11.8 7.5\\n13 Aggregate Bank Deposits 11.5 10.8\\n14 Aggregate Bank Credits 13.0 13.7\\n15Revenue Expenditure less Interest Payment \\nand Subsidies (Centre)34.6 7.2\\n16 Export of Goods & Services 3.5 4.5\\n17 Import of Goods & Services -5.0 6.8\\n18 CPI General Index 6.4 4.2\\n19 IIP\\n(i) Mining 11.5 -0.1\\n(ii) Manufacturing 6.8 3.1\\n(iii) Electricity 11.1 1.4\\n(iv) Metallic Minerals 14.3 2.1\\n20 WPI\\n(i) Food Articles 10.1 5.9\\n(ii) Minerals 11.4 6.2\\n(iii) Manufactured Products -2.1 1.2\\n(iv) All Commodities -0.6 1.7Year-on-Year Growth Rates (%) in Main Indicators\\nSl. No. IndicatorsQ2 \\n2023-24Q2 \\n2024-25'"
      ]
     },
     "execution_count": 9,
     "metadata": {},
     "output_type": "execute_result"
    }
   ],
   "source": [
    "raw_text"
   ]
  },
  {
   "cell_type": "markdown",
   "metadata": {
    "id": "5S0GgIQs4Rps"
   },
   "source": [
    "Initialize the connection to your database:\n",
    "\n",
    "_(do not worry if you see a few warnings, it's just that the drivers are chatty about negotiating protocol versions with the DB.)_"
   ]
  },
  {
   "cell_type": "code",
   "execution_count": 10,
   "metadata": {
    "colab": {
     "base_uri": "https://localhost:8080/"
    },
    "id": "zFBR5HnZSPmK",
    "outputId": "5b4bb3ea-6be3-4d7a-c535-88715fa67c13"
   },
   "outputs": [],
   "source": [
    "cassio.init(token=ASTRA_DB_APPLICATION_TOKEN, database_id=ASTRA_DB_ID)"
   ]
  },
  {
   "cell_type": "markdown",
   "metadata": {
    "id": "ex7NxZYb4Rps"
   },
   "source": [
    "Create the LangChain embedding and LLM objects for later usage:"
   ]
  },
  {
   "cell_type": "code",
   "execution_count": 17,
   "metadata": {
    "id": "TavS0AK2SLrL"
   },
   "outputs": [
    {
     "name": "stderr",
     "output_type": "stream",
     "text": [
      "/tmp/ipykernel_16233/3238403238.py:7: LangChainDeprecationWarning: The class `HuggingFaceEmbeddings` was deprecated in LangChain 0.2.2 and will be removed in 1.0. An updated version of the class exists in the :class:`~langchain-huggingface package and should be used instead. To use it run `pip install -U :class:`~langchain-huggingface` and import as `from :class:`~langchain_huggingface import HuggingFaceEmbeddings``.\n",
      "  embedding = HuggingFaceEmbeddings(model_name=\"all-MiniLM-L6-v2\")\n",
      "Xet Storage is enabled for this repo, but the 'hf_xet' package is not installed. Falling back to regular HTTP download. For better performance, install the package with: `pip install huggingface_hub[hf_xet]` or `pip install hf_xet`\n"
     ]
    }
   ],
   "source": [
    "# llm = OpenAI(openai_api_key=OPENAI_API_KEY)\n",
    "# embedding = OpenAIEmbeddings(openai_api_key=OPENAI_API_KEY)\n",
    "from langchain_groq import ChatGroq\n",
    "from langchain.embeddings import HuggingFaceEmbeddings\n",
    "\n",
    "llm = ChatGroq(model=\"llama3-8b-8192\", groq_api_key=Groq_API_Key)\n",
    "embedding = HuggingFaceEmbeddings(model_name=\"all-MiniLM-L6-v2\")\n"
   ]
  },
  {
   "cell_type": "markdown",
   "metadata": {
    "id": "9HMMx5Pm4Rpt"
   },
   "source": [
    "Create your LangChain vector store ... backed by Astra DB!"
   ]
  },
  {
   "cell_type": "code",
   "execution_count": 18,
   "metadata": {
    "id": "bg9VAk4USQvU"
   },
   "outputs": [],
   "source": [
    "astra_vector_store = Cassandra(\n",
    "    embedding=embedding,\n",
    "    table_name=\"qa_mini_demo\",\n",
    "    session=None,\n",
    "    keyspace=None,\n",
    ")"
   ]
  },
  {
   "cell_type": "code",
   "execution_count": 19,
   "metadata": {
    "id": "9FMAhKr77AVO"
   },
   "outputs": [],
   "source": [
    "from langchain.text_splitter import CharacterTextSplitter\n",
    "# We need to split the text using Character Text Split such that it sshould not increse token size\n",
    "text_splitter = CharacterTextSplitter(\n",
    "    separator = \"\\n\",\n",
    "    chunk_size = 800,\n",
    "    chunk_overlap  = 200,\n",
    "    length_function = len,\n",
    ")\n",
    "texts = text_splitter.split_text(raw_text)"
   ]
  },
  {
   "cell_type": "code",
   "execution_count": 20,
   "metadata": {
    "colab": {
     "base_uri": "https://localhost:8080/"
    },
    "id": "k8BDHAyT7Gjr",
    "outputId": "7833f6ac-bd97-40d6-fcbe-94a81b4dd6ac"
   },
   "outputs": [
    {
     "data": {
      "text/plain": [
       "['This Press Release is embargoed against publication, telecast or circulation on internet till 4:00 pm on 29th November , 2024 . \\n \\n \\n   \\n \\nPRESS NOTE  \\nON \\nESTIMATES OF GROSS DOMESTIC  \\nPRODUCT  FOR THE SECOND  QUARTER  \\n(JULY -SEPTEMBER ) OF 2024 -25  \\n \\n \\n \\n \\n \\n \\nNATIONAL ACCOUNTS DIVISION  \\nNATIONAL STATISTIC S OFFICE  \\nMINISTRY OF STATISTICS & PROGRAMME \\nIMPLEMENTATION  \\nGOVERNMENT OF INDIA  \\nThis Press Release is embargoed against publication, telecast or circulation on internet till 4:00 pm on 29th November , 2024 . \\n1 \\n GOVERNMENT OF INDIA  \\nMINISTRY OF STATISTICS AND PROGRAMME IMPLEMENTATION  \\n Dated 8 Agrahayana , 194 6 Saka  \\n 29th November , 202 4  \\nPRESS NOTE  \\nON \\nESTIMATES OF GROSS DOMESTIC PRODUCT FOR THE SECOND  QUARTER  \\n(JULY -SEPTEMBER ) OF 2024 -25',\n",
       " 'Dated 8 Agrahayana , 194 6 Saka  \\n 29th November , 202 4  \\nPRESS NOTE  \\nON \\nESTIMATES OF GROSS DOMESTIC PRODUCT FOR THE SECOND  QUARTER  \\n(JULY -SEPTEMBER ) OF 2024 -25 \\n \\nThe National Statistic s Office (NSO), Ministry of Statistics and Programme Implementation \\n(MoSPI) is releasing in this Press Note, Quarterly Estimates of Gross Domestic Product (GDP) for \\nthe July -September Quarter (Q2) of the Financial Year (FY) 2024 -25 along with its expenditur e \\ncomponents both at Constant (2011 -12) and Current Prices. Quarterly and Half -Yearly (April -\\nSeptember) Estimates of Gross Value Added (GVA) at Basic Prices by kind of economic activity \\nalong with year -on-year percent changes and expenditure components of GDP for the financial years',\n",
       " 'September) Estimates of Gross Value Added (GVA) at Basic Prices by kind of economic activity \\nalong with year -on-year percent changes and expenditure components of GDP for the financial years \\n2022 -23, 2023 -24 and 2024 -25 at Constant and Current Prices are given in Statements 1 to 8 of \\nAnnexure A . \\n \\nKey Highlights:  \\n➢ Real GDP has been estimated to grow by 5.4% in Q2 of FY 2024 -25 over the growth rate of 8.1% \\nin Q2 of FY 2023 -24. Despite sluggish growth observed in Manufacturing ( 2.2% ) and Mining & \\nQuarrying ( -0.1%) sectors in Q2 of FY 2024 -25, real GVA in H1 (April -September) has recorded \\na growth rate of 6.2%.  \\n➢ Real GVA has grown by 5.6% in Q2 of FY 2024 -25 over the growth rate of 7.7% in Q2 of the',\n",
       " 'a growth rate of 6.2%.  \\n➢ Real GVA has grown by 5.6% in Q2 of FY 2024 -25 over the growth rate of 7.7% in Q2 of the \\nprevious financial year. Nominal GVA has witnessed a growth rate of 8.1 % in Q2 of FY 2024 -\\n25 over the growth rate of 9.3% in Q2 of FY 2023 -24. \\n➢ Agriculture and Allied sector has bounced back by registering a growth rate of 3.5% in Q2 of FY \\n2024 -25 after sub -optimal growth rates ranging from 0.4% to 2.0%, observed during previous \\nfour quarters.  \\n➢ In the Construction sector, sustained domestic consumption of finished steel has resulted 7.7% \\nand 9.1% growth rates respectively in Q2 and H1 of FY 2024 -25.  \\n➢ Tertiary sector has observed a growth rate of 7.1% in Q2  of FY 2024 -25, as compared to the',\n",
       " 'and 9.1% growth rates respectively in Q2 and H1 of FY 2024 -25.  \\n➢ Tertiary sector has observed a growth rate of 7.1% in Q2  of FY 2024 -25, as compared to the \\ngrowth rate of 6.0% in Q2 of the previous financial year.  In particular, Trade, Hotels, Transport, \\nCommunication & Services related to Broadcasting has seen a growth rate of 6.0% in Q2 of FY \\n2024 -25 over the growth rate of 4.5% in Q2, 2023 -24. \\n➢ Private Final Consumption Expenditure (PFCE) has witnessed a growth rate of 6.0% and 6.7% \\nrespectively in Q2 and H1 of the FY 2024 -25 over the growth rate of 2.6% and 4.0% in Q2 and \\nH1 of the previous financial year.   \\n➢ Government Final Consumption Expenditure (GFCE) has rebounded to a growth rate of 4.4%',\n",
       " 'H1 of the previous financial year.   \\n➢ Government Final Consumption Expenditure (GFCE) has rebounded to a growth rate of 4.4% \\nafter observing either negative or low growth rates in previous three quarters.  This Press Release is embargoed against publication, telecast or circulation on internet till 4:00 pm on 29th November , 2024 . \\n2 \\n I. Quarterly  Estimates  and Growth Rates  \\n \\n Real GDP or GDP at Constant Prices in Q 2 of 2024 -25 is estimated at ₹ 44.10  lakh crore, \\nagainst ₹ 41.86  lakh crore in Q 2 of 2023 -24, showing a growth rate of 5.4%. Nominal GDP or GDP \\nat Current Prices in Q 2 of 2024 -25 is estimated at ₹ 76.60  lakh crore, against ₹ 70.90 lakh crore in \\nQ2 of 2023 -24, showing a growth rate of 8.0%.',\n",
       " 'at Current Prices in Q 2 of 2024 -25 is estimated at ₹ 76.60  lakh crore, against ₹ 70.90 lakh crore in \\nQ2 of 2023 -24, showing a growth rate of 8.0%. \\n Real GVA in Q 2 of 2024 -25 is estimated at ₹ 40.58  lakh crore, against ₹ 38.42 lakh crore in \\nQ2 of 2023 -24, showing a growth rate of 5.6%. Nominal GVA in Q 2 of 2024 -25 is estimated at \\n₹69.54  lakh crore, against ₹ 64.35  lakh crore in Q 2 of 2023 -24, showing a growth rate of 8.1%. \\n \\nFig. 1: Quarter ly GDP  and GVA  Estimates along with Y-o-Y Growth Rates from Q 1 FY \\n2021-22 to Q2 FY 2024 -25 at Constant  Prices  \\n \\n \\n \\n \\n \\n \\nThis Press Release is embargoed against publication, telecast or circulation on internet till 4:00 pm on 29th November , 2024 . \\n3 \\n  \\nFig. 2: Sectoral Composition and Growth Rates of Quarterly GVA',\n",
       " 'This Press Release is embargoed against publication, telecast or circulation on internet till 4:00 pm on 29th November , 2024 . \\n3 \\n  \\nFig. 2: Sectoral Composition and Growth Rates of Quarterly GVA  \\nSectoral Composition of Nominal GVA in Q 2 of FY 2024 -25 \\n \\n \\n \\n \\n \\n \\n \\n*Public Administration, Defence & Other Services category includes the Other Services sector i.e. Education, Health, Recreation, and other   \\npersonal services.  \\n \\n \\n  \\nThis Press Release is embargoed against publication, telecast or circulation on internet till 4:00 pm on 29th November , 2024 . \\n4 \\n Fig. 3: Composition and Growth Rates of Quarterly GVA in Broad Sectors  \\n \\n \\n \\n \\n \\n \\n[Primary Sector : Agriculture, Livestock, Forestry & Fishing and Mining & Quarrying',\n",
       " '4 \\n Fig. 3: Composition and Growth Rates of Quarterly GVA in Broad Sectors  \\n \\n \\n \\n \\n \\n \\n[Primary Sector : Agriculture, Livestock, Forestry & Fishing and Mining & Quarrying  \\nSecondary Sector : Manufacturing, Electricity, Gas, Water supply & Other Utility Services and Construction  \\nTertiary Sector : Trade, Hotels, Transport, Communication and Services related to Broadcasting, Financial, Real Estate & Professional Service s and \\nPublic Administration, Defence & Other Services]  \\n \\n \\n \\nThis Press Release is embargoed against publication, telecast or circulation on internet till 4:00 pm on 29th November , 2024 . \\n5 \\n II.  Half -Yearly Estimates and Growth Rates  \\n \\n Real GDP or GDP at Constant Prices in April -September  of 2024 -25 (H1 2024-25) is',\n",
       " '5 \\n II.  Half -Yearly Estimates and Growth Rates  \\n \\n Real GDP or GDP at Constant Prices in April -September  of 2024 -25 (H1 2024-25) is \\nestimated at ₹ 87.74  lakh crore, against ₹ 82.77  lakh crore in H1 of 2023-24, showing a growth rate \\nof 6.0%. Nominal GDP or GDP at Current Prices in H1, 2024 -25 is  estimated at ₹ 153.91  lakh crore, \\nagainst ₹ 141.40  lakh crore in H1  of 2023-24, showing a growth rate of 8.9%. \\n Real GVA in H1of 2024 -25 is estimated at ₹ 81.30  lakh crore, against ₹ 76.54  lakh crore in \\nH1, 2023 -24, showing a growth rate of 6. 2%. Nominal GVA in H1 of 2024 -25 is estimated at \\n₹139.78  lakh crore, against ₹ 128.31 lakh crore in H1, 2023 -24, showing a growth rate of 8.9%.',\n",
       " 'H1, 2023 -24, showing a growth rate of 6. 2%. Nominal GVA in H1 of 2024 -25 is estimated at \\n₹139.78  lakh crore, against ₹ 128.31 lakh crore in H1, 2023 -24, showing a growth rate of 8.9%. \\n \\nFig. 4: Half -Yearly  GDP and GVA Estimates along with Y -o-Y Growth Rates from H1 2021-\\n22 to H1 2024 -25 at Constant Prices  \\n \\n \\n \\n \\n \\n \\n \\nThis Press Release is embargoed against publication, telecast or circulation on internet till 4:00 pm on 29th November , 2024 . \\n6 \\n Fig. 5: Sectoral Growth Rates of Half -Yearly (H1  2024 -25) Real GVA  \\n \\n \\n \\n \\n \\n \\n[Primary Sector : Agriculture, Livestock, Forestry & Fishing and Mining & Quarrying  \\nSecondary Sector : Manufacturing, Electricity, Gas, Water supply & Other Utility Services and Construction',\n",
       " '[Primary Sector : Agriculture, Livestock, Forestry & Fishing and Mining & Quarrying  \\nSecondary Sector : Manufacturing, Electricity, Gas, Water supply & Other Utility Services and Construction  \\nTertiary Sector : Trade, Hotels, Transport, Communication and Services related to Broadcasting, Financial, Real Estate & Professional Service s and \\nPublic Administration, Defence & Other Services]  \\n*Public Administration, Defence & Other Services category includes the Other Services sector i.e. Education, Health, Recreati on, and other   \\npersonal services.  \\n \\n \\n \\nThis Press Release is embargoed against publication, telecast or circulation on internet till 4:00 pm on 29th November , 2024 . \\n7 \\n III. Methodology and Major Data Sources',\n",
       " 'This Press Release is embargoed against publication, telecast or circulation on internet till 4:00 pm on 29th November , 2024 . \\n7 \\n III. Methodology and Major Data Sources  \\n Quarterly Estimates of GDP  are indicator based and compiled using the benchmark -indicator \\nmethod i.e. the estimates available for the same quarter of the previous financial year (2023 -24) are \\nextrapolated using the relevant indicators reflecting the performance of sectors. Data sourced from \\nvarious Ministries/Departments/Private Agencies serve as valuable inputs in the compilation of \\nthese estimates.  \\n The sector -wise estimates have been compiled using indicators /data sources viz. (i) Index of \\nIndustrial Production (IIP), (ii) Financial performance of Listed Companies in the Private Corporate',\n",
       " 'The sector -wise estimates have been compiled using indicators /data sources viz. (i) Index of \\nIndustrial Production (IIP), (ii) Financial performance of Listed Companies in the Private Corporate \\nsector based on available quarterly financial results of these companies  for Q2 of 2024 -25, (iii) \\nProduction Targets a nd First Advance Estimates of Crop Production for 2024 -25, (iv) Production \\nTargets and summer season p roduction estimates of Major Livestock products  for 2024 -25; (v) Fi sh \\nProduction , (vi) Production/ Consumption of Cement and Steel, (vii) Net Tonne Kilometres and \\nPassenger Kilometres for Railways, (viii) Passenger and Cargo traffic handled by Civil Aviation, \\n(ix) Cargo traffic handled at Major and Minor Sea Ports, (x) Sales of Commercial Vehicles, (xi)',\n",
       " 'Passenger Kilometres for Railways, (viii) Passenger and Cargo traffic handled by Civil Aviation, \\n(ix) Cargo traffic handled at Major and Minor Sea Ports, (x) Sales of Commercial Vehicles, (xi)  \\nBank Deposits and Credits, (xii) Accounts of Central and State Governments, etc., available for Q2 \\nof 2024 -25. Year -on-Year growth rates (%) in the main indicators used in the estimation are given \\nin the Annexure B. \\n Total tax revenue used for GDP compilation includes non -GST revenue as well as GST \\nrevenue. Latest available information on the websites of Controller General of Accounts (CGA) and \\nComptroller and Auditor General of India (CAG) have been used for estimating taxes on products \\nat Current Prices. For compiling taxes on products at constant prices, volume extrapolation is done',\n",
       " 'Comptroller and Auditor General of India (CAG) have been used for estimating taxes on products \\nat Current Prices. For compiling taxes on products at constant prices, volume extrapolation is done \\nusing volume growth of taxed goods and services  and aggregated to obtain the total volume of taxes . \\nThe total product subsidies at Curre nt prices were compiled using the information on major \\nsubsidies viz. Food, Urea, Petroleum and Nutrient based subsidy for Centre and the expenditure \\nincurred on subsidies by most States for July-September  quarter of FY  2024 -25. Lates t available \\ndata on the CGA and CAG websites for Revenue expenditure, Interest payments, Subsidies etc. \\nfrom Centre and States are used for estimating Government Final Consumption Expenditure \\n(GFCE).',\n",
       " 'data on the CGA and CAG websites for Revenue expenditure, Interest payments, Subsidies etc. \\nfrom Centre and States are used for estimating Government Final Consumption Expenditure \\n(GFCE).  \\nImproved data coverage and revision in input data made by source agencies would have a \\nbearing on subsequent revisions of these estimates. Estimates are, therefore, likely to undergo \\nrevisions for the aforesaid causes in due course, as per the release cale ndar. Users should take these \\ninto consideration while interpreting the figures. The First Advance Estimates of Annual GDP for \\nFY 2024 -25 would be released on 7.01.2025. The release of quarterly GDP estimates for the quarter \\nOctober -December  of 2024 -25 (Q 3 2024 -25) will be on 28.02.2025 .',\n",
       " 'FY 2024 -25 would be released on 7.01.2025. The release of quarterly GDP estimates for the quarter \\nOctober -December  of 2024 -25 (Q 3 2024 -25) will be on 28.02.2025 . \\n***********This Press Release is embargoed against publication, telecast or circulation on internet till 4:00 pm on 29th November , 2024 . \\n8 \\n Annexure A  \\n \\n \\n \\n \\n \\n \\n \\n \\n \\n \\n  \\n(₹ Crore)\\nQ1 Q2 Q1 Q2 Q1 Q2 Q1 Q2 Q1 Q2\\n1. Primary Sector 5,82,779 4,95,503 6,07,200 5,09,923 6,23,784     5,25,140 4.2 2.9 2.7 3.0\\n1.1 Agriculture, Livestock, Forestry & Fishing 5,02,859 4,33,439 5,21,648 4,40,989 5,32,092 4,56,279 3.7 1.7 2.0 3.5\\n1.2. Mining & Quarrying 79,920 62,064 85,551 68,934 91,691 68,861 7.0 11.1 7.2 -0.1\\n2. Secondary Sector 10,08,980 9,71,473 10,68,496 11,04,936 11,58,524 11,47,523 5.9 13.7 8.4 3.9',\n",
       " '1.2. Mining & Quarrying 79,920 62,064 85,551 68,934 91,691 68,861 7.0 11.1 7.2 -0.1\\n2. Secondary Sector 10,08,980 9,71,473 10,68,496 11,04,936 11,58,524 11,47,523 5.9 13.7 8.4 3.9\\n2.1. Manufacturing 6,09,518 6,01,225 6,39,709 6,87,183 6,84,792 7,01,961 5.0 14.3 7.0 2.2\\n2.2. Electricity, Gas, Water Supply & Other Utility Services 91,145 88,379 94,034 97,686 1,03,805 1,00,922 3.2 10.5 10.4 3.3\\n2.3. Construction 3,08,318 2,81,869 3,34,754 3,20,067 3,69,927 3,44,640 8.6 13.6 10.5 7.7\\n3. Tertiary Sector 19,29,266 21,01,129 21,36,301 22,27,615 22,90,427 23,85,035 10.7 6.0 7.2 7.1\\n3.1 Trade, Hotels, Transport, Communication & Services \\nrelated to Broadcasting5,88,075 6,77,141 6,45,039 7,07,675 6,81,942 7,50,198 9.7 4.5 5.7 6.0',\n",
       " '3.1 Trade, Hotels, Transport, Communication & Services \\nrelated to Broadcasting5,88,075 6,77,141 6,45,039 7,07,675 6,81,942 7,50,198 9.7 4.5 5.7 6.0\\n3.2 Financial, Real Estate & Professional Services 9,03,194 9,52,433 10,17,115 10,11,847 10,89,219 10,80,051 12.6 6.2 7.1 6.7\\n3.3 Public Administration, Defence & Other Services* 4,37,997 4,71,555 4,74,148 5,08,093 5,19,267 5,54,786 8.3 7.7 9.5 9.2\\nGVA at Basic Prices 35,21,025 35,68,105 38,11,997 38,42,473 40,72,734 40,57,697 8.3 7.7 6.8 5.6\\nNet Taxes 2,58,929 3,04,753 2,79,486 3,43,306 2,90,998 3,52,626 7.9 12.7 4.1 2.7\\nGDP@37,79,954 38,72,858 40,91,484 41,85,779 43,63,732 44,10,323 8.2 8.1 6.7 5.4\\n@GDP (Production/Income Approach) = GVA at Basic Price + Net Taxes on Products2022-23 2023-24 2024-25Percentage Change Over Previous \\nYear',\n",
       " '@GDP (Production/Income Approach) = GVA at Basic Price + Net Taxes on Products2022-23 2023-24 2024-25Percentage Change Over Previous \\nYear\\n2023-24 2024-25\\n* Public Administration, Defence & Other Services category includes the Other Services sector i.e. Education, Health, Recreation, and other personal servicesStatement 1: Quarterly Estimates of GVA at Basic Prices for Q2 (July-September) 2024-25 (at 2011-12 Prices)\\nSectorGVA at Basic Price\\n(₹ Crore)\\nQ1 Q2 Q1 Q2 Q1 Q2 Q1 Q2 Q1 Q2\\n1. Private Final Consumption Expenditure (PFCE) 21,66,248 22,82,920 22,86,468 23,42,610 24,56,777 24,82,288 5.5 2.6 7.4 6.0\\n2. Government Final Consumption Expenditure (GFCE) 4,16,509 3,36,707 4,15,961 3,83,709 4,14,945 4,00,698 -0.1 14.0 -0.2 4.4',\n",
       " '2. Government Final Consumption Expenditure (GFCE) 4,16,509 3,36,707 4,15,961 3,83,709 4,14,945 4,00,698 -0.1 14.0 -0.2 4.4\\n3. Gross Fixed Capital Formation (GFCF) 13,03,951 12,85,349 14,14,918 14,35,079 15,20,625 15,13,038 8.5 11.6 7.5 5.4\\n4. Changes in Stocks (CIS) 44,647 44,039 45,182 48,535 47,712 49,154 1.2 10.2 5.6 1.3\\n5. Valuables 35,436 1,09,678 27,991 1,08,733 24,796 1,24,366 -21.0 -0.9 -11.4 14.4\\n6. Exports 9,35,660 9,48,378 8,73,875 9,96,098 9,49,854 10,24,347 -6.6 5.0 8.7 2.8\\n7. Imports 9,59,074 10,28,800 11,05,210 11,47,928 11,53,943 11,14,743 15.2 11.6 4.4 -2.9\\n8. Discrepancies -1,63,422 -1,05,414 1,32,299 18,943 1,02,967 -68,825 3.2 0.5 2.4 -1.6\\nGDP 37,79,954 38,72,858 40,91,484 41,85,779 43,63,732 44,10,323 8.2 8.1 6.7 5.4',\n",
       " '8. Discrepancies -1,63,422 -1,05,414 1,32,299 18,943 1,02,967 -68,825 3.2 0.5 2.4 -1.6\\nGDP 37,79,954 38,72,858 40,91,484 41,85,779 43,63,732 44,10,323 8.2 8.1 6.7 5.4\\n In case of Discrepancy percentage share in GDP is given instead of percentage changes over previous year.# Following Expenditure Approach, GDP = PFCE + GFCE + GFCF + CIS + Valuable + Export - Import. Discrepancy refers to gap between GDP (Production/Income Approach) and GDP (Expenditure Approach).Expenditure Components of GDPStatement 2: Quarterly Estimates of Expenditure Components of GDP for Q2 (July-September) 2024-25 (at 2011-12 Prices)  \\n2023-24 2024-25Expenditure Components#2022-23 2023-24 2024-25Percentage Change Over Previous',\n",
       " '2023-24 2024-25Expenditure Components#2022-23 2023-24 2024-25Percentage Change Over Previous \\nYearThis Press Release is embargoed against publication, telecast or circulation on internet till 4:00 pm on 29th November , 2024 . \\n9 \\n  \\n \\n \\n \\n \\n \\n \\n  \\n(₹ Crore)\\nQ1 Q2 Q1 Q2 Q1 Q2 Q1 Q2 Q1 Q2\\n1. Primary Sector 11,25,265 9,53,270 11,71,059 10,34,029 12,70,732 10,95,984 4.1 8.5 8.5 6.0\\n1.1 Agriculture, Livestock, Forestry & Fishing 9,94,943 8,54,414 10,39,053 9,23,293 11,22,216 9,86,851 4.4 8.1 8.0 6.9\\n1.2. Mining & Quarrying 1,30,322 98,856 1,32,006 1,10,737 1,48,517 1,09,133 1.3 12.0 12.5 -1.4\\n2. Secondary Sector 15,43,731 14,67,553 16,14,377 16,43,548 17,62,900 17,18,881 4.6 12.0 9.2 4.6\\n2.1. Manufacturing 8,72,693 8,50,893 8,91,128 9,52,502 9,61,161 9,84,546 2.1 11.9 7.9 3.4',\n",
       " '2. Secondary Sector 15,43,731 14,67,553 16,14,377 16,43,548 17,62,900 17,18,881 4.6 12.0 9.2 4.6\\n2.1. Manufacturing 8,72,693 8,50,893 8,91,128 9,52,502 9,61,161 9,84,546 2.1 11.9 7.9 3.4\\n2.2. Electricity, Gas, Water Supply & Other Utility Services 1,41,120 1,47,146 1,60,133 1,60,864 1,73,527 1,65,026 13.5 9.3 8.4 2.6\\n2.3. Construction 5,29,919 4,69,514 5,63,116 5,30,182 6,28,213 5,69,309 6.3 12.9 11.6 7.4\\n3. Tertiary Sector 32,40,953 34,69,096 36,10,285 37,57,720 39,90,994 41,38,946 11.4 8.3 10.5 10.1\\n3.1 Trade, Hotels, Transport, Communication & Services \\nrelated to Broadcasting9,43,186 10,77,759 10,10,571 11,24,674 10,89,404 12,15,422 7.1 4.4 7.8 8.1\\n3.2 Financial, Real Estate & Professional Services 14,58,508 15,33,701 16,44,162 16,54,460 18,10,553 18,10,666 12.7 7.9 10.1 9.4',\n",
       " '3.2 Financial, Real Estate & Professional Services 14,58,508 15,33,701 16,44,162 16,54,460 18,10,553 18,10,666 12.7 7.9 10.1 9.4\\n3.3 Public Administration, Defence & Other Services* 8,39,259 8,57,636 9,55,552 9,78,586 10,91,037 11,12,858 13.9 14.1 14.2 13.7\\nGVA at Basic Prices 59,09,950 58,89,920 63,95,721 64,35,298 70,24,626 69,53,811 8.2 9.3 9.8 8.1\\nNet Taxes 5,89,612 5,78,885 6,53,873 6,54,923 7,06,353 7,06,681 10.9 13.1 8.0 7.9\\nGDP@64,99,562 64,68,804 70,49,594 70,90,221 77,30,979 76,60,491 8.5 9.6 9.7 8.0\\n@GDP (Production/Income Approach) = GVA at Basic Price + Net Taxes on ProductsStatement 3: Quarterly Estimates of GVA at Basic Prices for Q2 (July-September) 2024-25 (at Current Prices)\\nSectorGVA at Basic Price\\n2024-252022-23 2023-24 2024-25Percentage Change Over Previous \\nYear',\n",
       " 'SectorGVA at Basic Price\\n2024-252022-23 2023-24 2024-25Percentage Change Over Previous \\nYear\\n2023-24\\n* Public Administration, Defence & Other Services category includes the Other Services sector i.e. Education, Health, Recreation, and other personal services\\n(₹ Crore)\\nQ1 Q2 Q1 Q2 Q1 Q2 Q1 Q2 Q1 Q2\\n1. Private Final Consumption Expenditure (PFCE) 38,44,545 40,51,141 41,54,971 43,30,427 46,68,411 47,47,726 58.9 61.1 60.4 62.0\\n2. Government Final Consumption Expenditure (GFCE) 7,34,534 6,01,413 7,54,304 7,17,865 7,84,897 7,76,920 10.7 10.1 10.2 10.1\\n3. Gross Fixed Capital Formation (GFCF) 20,40,363 19,72,286 22,16,435 22,24,310 24,17,495 23,59,019 31.4 31.4 31.3 30.8\\n4. Changes in Stocks (CIS) 68,385 66,677 68,868 73,611 74,900 77,070 1.0 1.0 1.0 1.0',\n",
       " '4. Changes in Stocks (CIS) 68,385 66,677 68,868 73,611 74,900 77,070 1.0 1.0 1.0 1.0\\n5. Valuables 50,516 1,59,132 44,488 1,67,242 44,338 2,22,146 0.6 2.4 0.6 2.9\\n6. Exports 15,28,756 15,24,345 15,18,443 15,77,364 16,62,787 16,47,898 21.5 22.2 21.5 21.5\\n7. Imports 17,71,718 18,70,032 16,92,336 17,76,842 18,46,356 18,98,404 24.0 25.1 23.9 24.8\\n8. Discrepancies 4,183 -36,157 -15,579 -2,23,757 -75,492 -2,71,884 -0.2 -3.2 -1.0 -3.5\\nGDP 64,99,562 64,68,804 70,49,594 70,90,221 77,30,979 76,60,491 100.0 100.0 100.0 100.0\\nGDP  (Percentage change over previous year) 8.5 9.6 9.7 8.0',\n",
       " 'GDP 64,99,562 64,68,804 70,49,594 70,90,221 77,30,979 76,60,491 100.0 100.0 100.0 100.0\\nGDP  (Percentage change over previous year) 8.5 9.6 9.7 8.0\\n# Following Expenditure Approach, GDP = PFCE + GFCE + GFCF + CIS + Valuable + Export - Import. Discrepancy refers to gap between GDP (Production/Income Approach) and GDP (Expenditure Approach)Statement 4: Quarterly Estimates of Expenditure Components of GDP for Q2 (July-September) 2024-25 (at Current Prices)  \\nExpenditure Components#Expenditure Components of GDP\\n2022-23 2023-24 2024-25Share in GDP (%)\\n2023-24 2024-25This Press Release is embargoed against publication, telecast or circulation on internet till 4:00 pm on 29th November , 2024 . \\n10 \\n  \\n \\n \\n \\n  \\n(₹ Crore)\\n2023-24 2024-25\\n1. Primary Sector 10,78,282 11,17,122 11,48,924 3.6 2.8',\n",
       " '10 \\n  \\n \\n \\n \\n  \\n(₹ Crore)\\n2023-24 2024-25\\n1. Primary Sector 10,78,282 11,17,122 11,48,924 3.6 2.8\\n1.1 Agriculture, Livestock, Forestry & Fishing 9,36,297 9,62,637 9,88,371 2.8 2.7\\n1.2. Mining & Quarrying 1,41,984 1,54,485 1,60,552 8.8 3.9\\n2. Secondary Sector 19,80,453 21,73,432 23,06,046 9.7 6.1\\n2.1. Manufacturing 12,10,743 13,26,892 13,86,753 9.6 4.5\\n2.2. Electricity, Gas, Water Supply & Other Utility Services 1,79,524 1,91,720 2,04,727 6.8 6.8\\n2.3. Construction 5,90,187 6,54,821 7,14,567 11.0 9.1\\n3. Tertiary Sector 40,30,395 43,63,916 46,75,462 8.3 7.1\\n3.1 Trade, Hotels, Transport, Communication & Services \\nrelated to Broadcasting12,65,216 13,52,713 14,32,140 6.9 5.9\\n3.2 Financial, Real Estate & Professional Services 18,55,627 20,28,962 21,69,269 9.3 6.9',\n",
       " 'related to Broadcasting12,65,216 13,52,713 14,32,140 6.9 5.9\\n3.2 Financial, Real Estate & Professional Services 18,55,627 20,28,962 21,69,269 9.3 6.9\\n3.3 Public Administration, Defence & Other Services* 9,09,552 9,82,240 10,74,053 8.0 9.3\\nGVA at Basic Prices 70,89,130 76,54,471 81,30,431 8.0 6.2\\nNet Taxes 5,63,682 6,22,792 6,43,623 10.5 3.3\\nGDP@76,52,812 82,77,263 87,74,055 8.2 6.0\\n@GDP (Production/Income Approach) = GVA at Basic Price + Net Taxes on ProductsGVA at Basic Price\\nH1\\n2022-23 2023-24 2024-25Percentage Change \\nOver Previous Year',\n",
       " '@GDP (Production/Income Approach) = GVA at Basic Price + Net Taxes on ProductsGVA at Basic Price\\nH1\\n2022-23 2023-24 2024-25Percentage Change \\nOver Previous Year\\n* Public Administration, Defence & Other Services category includes the Other Services sector i.e. Education, Health, Recreation, and other personal servicesSectorStatement 5: Estimates of GVA at Basic Prices for H1 (April-September) 2024-25 (at 2011-12 Prices)\\n(₹ Crore)\\n2023-24 2024-25\\n1. Private Final Consumption Expenditure (PFCE) 44,49,168 46,29,078 49,39,065 4.0 6.7\\n2. Government Final Consumption Expenditure (GFCE) 7,53,216 7,99,670 8,15,643 6.2 2.0\\n3. Gross Fixed Capital Formation (GFCF) 25,89,299 28,49,997 30,33,662 10.1 6.4\\n4. Changes in Stocks (CIS) 88,686 93,717 96,865 5.7 3.4',\n",
       " '3. Gross Fixed Capital Formation (GFCF) 25,89,299 28,49,997 30,33,662 10.1 6.4\\n4. Changes in Stocks (CIS) 88,686 93,717 96,865 5.7 3.4\\n5. Valuables 1,45,114 1,36,724 1,49,162 -5.8 9.1\\n6. Exports 18,84,037 18,69,973 19,74,201 -0.7 5.6\\n7. Imports 19,87,874 22,53,138 22,68,685 13.3 0.7\\n8. Discrepancies -2,68,836 1,51,242 34,142 1.8 0.4\\nGDP 76,52,812 82,77,263 87,74,055 8.2 6.0\\nIncome Approach) and GDP (Expenditure Approach). In case of Discrepancy percentage share in GDP is given instead of percentage changes over previous year.# Following Expenditure Approach, GDP = PFCE + GFCE + GFCF + CIS + Valuable + Export - Import. Discrepancy refers to gap between GDP (Production/2024-25Statement 6: Estimates of Expenditure Components of GDP for H1 (April-September) 2024-25  (at 2011-12 Prices)',\n",
       " 'Expenditure Components#Expenditure Components of GDP\\nH1 Percentage Change \\nOver Previous Year\\n2022-23 2023-24This Press Release is embargoed against publication, telecast or circulation on internet till 4:00 pm on 29th November , 2024 . \\n11 \\n  \\n \\n \\n \\n \\n \\n \\n(₹ Crore)\\n2023-24 2024-25\\n1. Primary Sector 20,78,535 22,05,088 23,66,716 6.1 7.3\\n1.1 Agriculture, Livestock, Forestry & Fishing 18,49,357 19,62,345 21,09,067 6.1 7.5\\n1.2. Mining & Quarrying 2,29,178 2,42,743 2,57,649 5.9 6.1\\n2. Secondary Sector 30,11,284 32,57,925 34,81,781 8.2 6.9\\n2.1. Manufacturing 17,23,586 18,43,630 19,45,707 7.0 5.5\\n2.2. Electricity, Gas, Water Supply & Other Utility Services 2,88,266 3,20,997 3,38,553 11.4 5.5\\n2.3. Construction 9,99,433 10,93,298 11,97,521 9.4 9.5',\n",
       " '2.2. Electricity, Gas, Water Supply & Other Utility Services 2,88,266 3,20,997 3,38,553 11.4 5.5\\n2.3. Construction 9,99,433 10,93,298 11,97,521 9.4 9.5\\n3. Tertiary Sector 67,10,050 73,68,005 81,29,940 9.8 10.3\\n3.1 Trade, Hotels, Transport, Communication & Services \\nrelated to Broadcasting20,20,945 21,35,246 23,04,825 5.7 7.9\\n3.2 Financial, Real Estate & Professional Services 29,92,209 32,98,622 36,21,220 10.2 9.8\\n3.3 Public Administration, Defence & Other Services* 16,96,896 19,34,138 22,03,895 14.0 13.9\\nGVA at Basic Prices 1,17,99,869 1,28,31,019 1,39,78,437 8.7 8.9\\nNet Taxes 11,68,497 13,08,796 14,13,034 12.0 8.0\\nGDP@1,29,68,366 1,41,39,815 1,53,91,471 9.0 8.9',\n",
       " 'GVA at Basic Prices 1,17,99,869 1,28,31,019 1,39,78,437 8.7 8.9\\nNet Taxes 11,68,497 13,08,796 14,13,034 12.0 8.0\\nGDP@1,29,68,366 1,41,39,815 1,53,91,471 9.0 8.9\\n@GDP (Production/Income Approach) = GVA at Basic Price + Net Taxes on Products* Public Administration, Defence & Other Services category includes the Other Services sector i.e. Education, Health, Recreation, and other personal servicesStatement 7: Estimates of GVA at Basic Prices for H1 (April-September) 2024-25 (at Current Prices)\\nSectorGVA at Basic Price\\nH1 Percentage Change \\nOver Previous Year\\n2022-23 2023-24 2024-25\\n(₹ Crore)\\n2023-24 2024-25\\n1. Private Final Consumption Expenditure (PFCE) 78,95,686 84,85,398 94,16,138 60.0 61.2\\n2. Government Final Consumption Expenditure (GFCE) 13,35,947 14,72,169 15,61,816 10.4 10.1',\n",
       " '2023-24 2024-25\\n1. Private Final Consumption Expenditure (PFCE) 78,95,686 84,85,398 94,16,138 60.0 61.2\\n2. Government Final Consumption Expenditure (GFCE) 13,35,947 14,72,169 15,61,816 10.4 10.1\\n3. Gross Fixed Capital Formation (GFCF) 40,12,649 44,40,745 47,76,514 31.4 31.0\\n4. Changes in Stocks (CIS) 1,35,061 1,42,480 1,51,970 1.0 1.0\\n5. Valuables 2,09,648 2,11,729 2,66,484 1.5 1.7\\n6. Exports 30,53,100 30,95,807 33,10,685 21.9 21.5\\n7. Imports 36,41,751 34,69,178 37,44,760 24.5 24.3\\n8. Discrepancies -31,975 -2,39,336 -3,47,376 -1.7 -2.3\\nGDP 1,29,68,366 1,41,39,815 1,53,91,471 100.0 100.0\\nGDP  (Percentage change over previous year) 9.0 8.9\\n# Following Expenditure Approach, GDP = PFCE + GFCE + GFCF + CIS + Valuable + Export - Import. Discrepancy refers to gap between GDP (Production/Income',\n",
       " '# Following Expenditure Approach, GDP = PFCE + GFCE + GFCF + CIS + Valuable + Export - Import. Discrepancy refers to gap between GDP (Production/Income \\nApproach) and GDP (Expenditure Approach)Statement 8: Estimates of Expenditure Components of GDP for H1 (April-September) 2024-25  (at Current Prices)\\nExpenditure Components#Expenditure Components of GDP\\nH1Share in GDP (%)\\n2022-23 2023-24 2024-25This Press Release is embargoed against publication, telecast or circulation on internet till 4:00 pm on 29th November , 2024 . \\n12 \\n Annexure B \\n \\n***********  \\n[1] [2] [3] [4]\\n1 Production of Rice -0.04 0.9\\n2 Production of Coal 16.3 0.5\\n3 Production of Crude Oil 1.3 -3.4\\n4 Production of Cement 10.3 3.0\\n5 Consumption of Steel 17.7 12.0\\n6 Total Telephone Subscribers 0.8 0.8',\n",
       " '1 Production of Rice -0.04 0.9\\n2 Production of Coal 16.3 0.5\\n3 Production of Crude Oil 1.3 -3.4\\n4 Production of Cement 10.3 3.0\\n5 Consumption of Steel 17.7 12.0\\n6 Total Telephone Subscribers 0.8 0.8\\n7 Sales of Commercial Vehicles 6.8 -11.0\\n8Purchase of Private Vehicles (Passenger \\nVehicles+Two Wheelers)-0.5 9.9\\n9 Cargo Handled at Major Sea Ports 3.1 6.1\\n10 Cargo Handled at Airports 1.7 16.1\\n11 Passengers Handled at Airports 22.7 7.8\\n12 Railways\\n(i) Net Tonne Kilometres 0.9 -1.6\\n(ii) Passenger Kilometres 11.8 7.5\\n13 Aggregate Bank Deposits 11.5 10.8\\n14 Aggregate Bank Credits 13.0 13.7\\n15Revenue Expenditure less Interest Payment \\nand Subsidies (Centre)34.6 7.2\\n16 Export of Goods & Services 3.5 4.5\\n17 Import of Goods & Services -5.0 6.8\\n18 CPI General Index 6.4 4.2\\n19 IIP\\n(i) Mining 11.5 -0.1',\n",
       " 'and Subsidies (Centre)34.6 7.2\\n16 Export of Goods & Services 3.5 4.5\\n17 Import of Goods & Services -5.0 6.8\\n18 CPI General Index 6.4 4.2\\n19 IIP\\n(i) Mining 11.5 -0.1\\n(ii) Manufacturing 6.8 3.1\\n(iii) Electricity 11.1 1.4\\n(iv) Metallic Minerals 14.3 2.1\\n20 WPI\\n(i) Food Articles 10.1 5.9\\n(ii) Minerals 11.4 6.2\\n(iii) Manufactured Products -2.1 1.2\\n(iv) All Commodities -0.6 1.7Year-on-Year Growth Rates (%) in Main Indicators\\nSl. No. IndicatorsQ2 \\n2023-24Q2 \\n2024-25']"
      ]
     },
     "execution_count": 20,
     "metadata": {},
     "output_type": "execute_result"
    }
   ],
   "source": [
    "texts[:50]"
   ]
  },
  {
   "cell_type": "markdown",
   "metadata": {
    "id": "V1WK54-74Rpt"
   },
   "source": [
    "### Load the dataset into the vector store\n",
    "\n"
   ]
  },
  {
   "cell_type": "code",
   "execution_count": 21,
   "metadata": {
    "colab": {
     "base_uri": "https://localhost:8080/"
    },
    "id": "GX5BECsdSUUM",
    "outputId": "cdff3467-8af3-45cd-f750-f3174bc521fb"
   },
   "outputs": [
    {
     "name": "stdout",
     "output_type": "stream",
     "text": [
      "Inserted 40 headlines.\n"
     ]
    }
   ],
   "source": [
    "\n",
    "astra_vector_store.add_texts(texts[:50])\n",
    "\n",
    "print(\"Inserted %i headlines.\" % len(texts[:50]))\n",
    "\n",
    "astra_vector_index = VectorStoreIndexWrapper(vectorstore=astra_vector_store)"
   ]
  },
  {
   "cell_type": "code",
   "execution_count": null,
   "metadata": {
    "id": "KhVf0kir2Uke"
   },
   "outputs": [],
   "source": []
  },
  {
   "cell_type": "markdown",
   "metadata": {
    "id": "oLJp8yPF4Rpt"
   },
   "source": [
    "### Run the QA cycle\n",
    "\n",
    "Simply run the cells and ask a question -- or `quit` to stop. (you can also stop execution with the \"▪\" button on the top toolbar)\n",
    "\n",
    "Here are some suggested questions:\n",
    "- _What is the current GDP?_\n",
    "- _How much the agriculture target will be increased to and what the focus will be_\n"
   ]
  },
  {
   "cell_type": "code",
   "execution_count": 22,
   "metadata": {
    "colab": {
     "base_uri": "https://localhost:8080/"
    },
    "id": "MbJugrh7SX3C",
    "outputId": "10e8f954-a113-47a2-a84c-615a9f6e5dc6"
   },
   "outputs": [
    {
     "name": "stdout",
     "output_type": "stream",
     "text": [
      "\n",
      "QUESTION: \"Half-Yearly Estimates and Growth Rates\"\n",
      "ANSWER: \"According to the text, the half-yearly estimates and growth rates are as follows:\n",
      "\n",
      "* Real GDP (GDP at Constant Prices) in H1 (April-September) of 2024-25 is estimated at ₹139.78 lakh crore, showing a growth rate of 6.2% over H1 of the previous financial year.\n",
      "* Nominal GVA (Gross Value Added) in H1 of 2024-25 is estimated at ₹139.78 lakh crore, showing a growth rate of 8.9% over H1 of the previous financial year.\n",
      "\n",
      "These estimates are based on the data provided in Fig. 4: Half-Yearly GDP and GVA Estimates along with Y-o-Y Growth Rates from H1 2021-22 to H1 2024-25 at Constant Prices.\"\n",
      "\n",
      "FIRST DOCUMENTS BY RELEVANCE:\n",
      "    [0.7788] \"September) Estimates of Gross Value Added (GVA) at Basic Prices by kind of economic  ...\"\n",
      "    [0.7703] \"4 \n",
      " Fig. 3: Composition and Growth Rates of Quarterly GVA in Broad Sectors  \n",
      " \n",
      " \n",
      " \n",
      "  ...\"\n",
      "    [0.7577] \"H1, 2023 -24, showing a growth rate of 6. 2%. Nominal GVA in H1 of 2024 -25 is estim ...\"\n",
      "    [0.7556] \"H1 of the previous financial year.   \n",
      "➢ Government Final Consumption Expenditure (GF ...\"\n",
      "\n",
      "QUESTION: \"exit\"\n",
      "ANSWER: \"It seems you'd like to end our conversation. It was nice chatting with you, but I'm happy to conclude our interaction. If you have any more questions or need assistance in the future, please feel free to reach out. Have a great day!\"\n",
      "\n",
      "FIRST DOCUMENTS BY RELEVANCE:\n",
      "    [0.5515] \"4. Changes in Stocks (CIS) 68,385 66,677 68,868 73,611 74,900 77,070 1.0 1.0 1.0 1.0 ...\"\n",
      "    [0.5473] \"[Primary Sector : Agriculture, Livestock, Forestry & Fishing and Mining & Quarrying  ...\"\n",
      "    [0.5471] \"2. Secondary Sector 15,43,731 14,67,553 16,14,377 16,43,548 17,62,900 17,18,881 4.6  ...\"\n",
      "    [0.5405] \"2.2. Electricity, Gas, Water Supply & Other Utility Services 2,88,266 3,20,997 3,38, ...\"\n",
      "\n",
      "QUESTION: \"exit\"\n",
      "ANSWER: \"It seems like you'd like to end our conversation. It was nice chatting with you! If you have any more questions or need assistance in the future, don't hesitate to reach out. Have a great day!\"\n",
      "\n",
      "FIRST DOCUMENTS BY RELEVANCE:\n",
      "    [0.5515] \"4. Changes in Stocks (CIS) 68,385 66,677 68,868 73,611 74,900 77,070 1.0 1.0 1.0 1.0 ...\"\n",
      "    [0.5473] \"[Primary Sector : Agriculture, Livestock, Forestry & Fishing and Mining & Quarrying  ...\"\n",
      "    [0.5471] \"2. Secondary Sector 15,43,731 14,67,553 16,14,377 16,43,548 17,62,900 17,18,881 4.6  ...\"\n",
      "    [0.5405] \"2.2. Electricity, Gas, Water Supply & Other Utility Services 2,88,266 3,20,997 3,38, ...\"\n",
      "\n",
      "QUESTION: \"Escape\"\n",
      "ANSWER: \"It seems like you're trying to escape!\"\n",
      "\n",
      "FIRST DOCUMENTS BY RELEVANCE:\n",
      "    [0.5749] \"4. Changes in Stocks (CIS) 68,385 66,677 68,868 73,611 74,900 77,070 1.0 1.0 1.0 1.0 ...\"\n",
      "    [0.5364] \"2. Government Final Consumption Expenditure (GFCE) 4,16,509 3,36,707 4,15,961 3,83,7 ...\"\n",
      "    [0.5225] \"3.1 Trade, Hotels, Transport, Communication & Services \n",
      "related to Broadcasting5,88, ...\"\n",
      "    [0.5209] \"2.2. Electricity, Gas, Water Supply & Other Utility Services 2,88,266 3,20,997 3,38, ...\"\n"
     ]
    }
   ],
   "source": [
    "first_question = True\n",
    "while True:\n",
    "    if first_question:\n",
    "        query_text = input(\"\\nEnter your question (or type 'quit' to exit): \").strip()\n",
    "    else:\n",
    "        query_text = input(\"\\nWhat's your next question (or type 'quit' to exit): \").strip()\n",
    "\n",
    "    if query_text.lower() == \"quit\":\n",
    "        break\n",
    "\n",
    "    if query_text == \"\":\n",
    "        continue\n",
    "\n",
    "    first_question = False\n",
    "\n",
    "    print(\"\\nQUESTION: \\\"%s\\\"\" % query_text)\n",
    "    answer = astra_vector_index.query(query_text, llm=llm).strip()\n",
    "    print(\"ANSWER: \\\"%s\\\"\\n\" % answer)\n",
    "\n",
    "    print(\"FIRST DOCUMENTS BY RELEVANCE:\")\n",
    "    for doc, score in astra_vector_store.similarity_search_with_score(query_text, k=4):\n",
    "        print(\"    [%0.4f] \\\"%s ...\\\"\" % (score, doc.page_content[:84]))"
   ]
  },
  {
   "cell_type": "code",
   "execution_count": null,
   "metadata": {
    "id": "dSaUPguw389l"
   },
   "outputs": [],
   "source": []
  }
 ],
 "metadata": {
  "colab": {
   "provenance": []
  },
  "kernelspec": {
   "display_name": "Python 3 (ipykernel)",
   "language": "python",
   "name": "python3"
  },
  "language_info": {
   "codemirror_mode": {
    "name": "ipython",
    "version": 3
   },
   "file_extension": ".py",
   "mimetype": "text/x-python",
   "name": "python",
   "nbconvert_exporter": "python",
   "pygments_lexer": "ipython3",
   "version": "3.12.0"
  }
 },
 "nbformat": 4,
 "nbformat_minor": 4
}
